{
 "cells": [
  {
   "cell_type": "code",
   "execution_count": 37,
   "metadata": {},
   "outputs": [],
   "source": [
    "%matplotlib inline\n",
    "import os\n",
    "import sys\n",
    "import numpy as np\n",
    "from src.dataset.trans.data import *"
   ]
  },
  {
   "cell_type": "markdown",
   "metadata": {},
   "source": [
    "1. Define path to annotations"
   ]
  },
  {
   "cell_type": "code",
   "execution_count": 38,
   "metadata": {},
   "outputs": [],
   "source": [
    "args_dataset = 'JAAD' # use JAAD\n",
    "all_anns_paths = {'JAAD': {'anns': 'DATA/annotations/JAAD/JAAD_DATA.pkl', \n",
    "                 'split': 'DATA/annotations/JAAD/splits'},\n",
    "         'PIE': {'anns': 'DATA/annotations/PIE/PIE_DATA.pkl'},\n",
    "         'TITAN': {'anns': 'DATA/annotations/TITAN/titan_0_4',\n",
    "                   'split':'DATA/annotations/TITAN/splits' }\n",
    "         }\n",
    "anns_paths = {}\n",
    "if args_dataset == 'all':\n",
    "        anns_paths = all_anns_paths\n",
    "else:\n",
    "    anns_paths[args_dataset] = all_anns_paths[args_dataset]"
   ]
  },
  {
   "cell_type": "markdown",
   "metadata": {},
   "source": [
    "2. Extract transition and non-transition samples"
   ]
  },
  {
   "cell_type": "code",
   "execution_count": 39,
   "metadata": {},
   "outputs": [],
   "source": [
    "trans_data = TransDataset(data_paths=anns_paths, image_set=\"train\", verbose=False) # use training set"
   ]
  },
  {
   "cell_type": "code",
   "execution_count": 40,
   "metadata": {},
   "outputs": [
    {
     "name": "stdout",
     "output_type": "stream",
     "text": [
      "Extract 82 GO history samples from train dataset,\n",
      "samples contain 81 unique pedestrians and 1296 frames.\n"
     ]
    }
   ],
   "source": [
    "trans = trans_data.extract_trans_history(mode='GO', fps=5, verbose=True) # go transition, sampling rate 5 fps"
   ]
  },
  {
   "cell_type": "code",
   "execution_count": 41,
   "metadata": {},
   "outputs": [
    {
     "name": "stdout",
     "output_type": "stream",
     "text": [
      "Extract Non-transition samples from train dataset  :\n",
      "Walking: 202 samples,  202 unique pedestrians and 5877 frames.\n",
      "Standing: 33 samples,  33 unique pedestrians and 469 frames.\n"
     ]
    }
   ],
   "source": [
    "non_trans = trans_data.extract_non_trans(fps=5,verbose=True) "
   ]
  },
  {
   "cell_type": "markdown",
   "metadata": {},
   "source": [
    "3. Extract frame samples"
   ]
  },
  {
   "cell_type": "code",
   "execution_count": 42,
   "metadata": {},
   "outputs": [],
   "source": [
    "samples = extract_pred_frame(trans, non_trans, pred_ahead=10, balancing_ratio=None, bbox_min=0) # return frame samples in the form of dictionary"
   ]
  },
  {
   "cell_type": "markdown",
   "metadata": {},
   "source": [
    "Now each frame sample contains <br/>\n",
    "* `source` : source dataset\n",
    "* `video_number`\n",
    "* `old_id`: original id of pedestrian\n",
    "* `frame` the index of frame in the video clip\n",
    "* `bbox`: original bounding boxes of the targeted pedestrian using two-point coordinates (top-left, bottom-right) `[x1, y1, x2, y2]`. \n",
    "* `trans_label`: 1/0\n",
    "* `TTE`: time to transition, NaN for negative samples"
   ]
  },
  {
   "cell_type": "code",
   "execution_count": 43,
   "metadata": {},
   "outputs": [
    {
     "name": "stdout",
     "output_type": "stream",
     "text": [
      "{'source': 'JAAD', 'video_number': 'video_0080', 'old_id': '0_80_428b', 'frame': 18, 'bbox': [1249.0, 452.0, 1309.0, 625.0], 'action': 0, 'behavior': [0, 0, 0, 0], 'attributes': [4, 1, 1, 1, 1, 1], 'traffic_light': 0, 'trans_label': 1, 'TTE': 0.8}\n"
     ]
    }
   ],
   "source": [
    "ids = list(samples.keys())\n",
    "# transition\n",
    "print(samples[ids[50]])"
   ]
  },
  {
   "cell_type": "code",
   "execution_count": 44,
   "metadata": {},
   "outputs": [
    {
     "name": "stdout",
     "output_type": "stream",
     "text": [
      "{'source': 'JAAD', 'video_number': 'video_0133', 'old_id': '0_133_789b', 'frame': 88, 'bbox': [925.0, 495.0, 948.0, 544.0], 'action': 0, 'behavior': [0, 0, 0, 0], 'attributes': [4, 0, 0, 0, 1, 0], 'traffic_light': 0, 'trans_label': 0, 'TTE': nan}\n"
     ]
    }
   ],
   "source": [
    "# non-transition\n",
    "print(samples[ids[600]])"
   ]
  }
 ],
 "metadata": {
  "kernelspec": {
   "display_name": "Python 3",
   "language": "python",
   "name": "python3"
  },
  "language_info": {
   "codemirror_mode": {
    "name": "ipython",
    "version": 3
   },
   "file_extension": ".py",
   "mimetype": "text/x-python",
   "name": "python",
   "nbconvert_exporter": "python",
   "pygments_lexer": "ipython3",
   "version": "3.8.5"
  }
 },
 "nbformat": 4,
 "nbformat_minor": 4
}
